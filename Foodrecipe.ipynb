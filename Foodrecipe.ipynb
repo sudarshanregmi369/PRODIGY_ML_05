{
  "nbformat": 4,
  "nbformat_minor": 0,
  "metadata": {
    "colab": {
      "provenance": [],
      "authorship_tag": "ABX9TyPuw3oCAINuHm3hHpTL0uPa",
      "include_colab_link": true
    },
    "kernelspec": {
      "name": "python3",
      "display_name": "Python 3"
    },
    "language_info": {
      "name": "python"
    }
  },
  "cells": [
    {
      "cell_type": "markdown",
      "metadata": {
        "id": "view-in-github",
        "colab_type": "text"
      },
      "source": [
        "<a href=\"https://colab.research.google.com/github/sudarshanregmi369/PRODIGY_ML_05/blob/main/Foodrecipe.ipynb\" target=\"_parent\"><img src=\"https://colab.research.google.com/assets/colab-badge.svg\" alt=\"Open In Colab\"/></a>"
      ]
    },
    {
      "cell_type": "code",
      "execution_count": null,
      "metadata": {
        "id": "q9y4rN5sC-Ou"
      },
      "outputs": [],
      "source": [
        "import numpy as np\n",
        "import tensorflow as tf\n",
        "from tensorflow.keras.preprocessing.image import ImageDataGenerator\n",
        "from tensorflow.keras.applications import MobileNetV2\n",
        "from tensorflow.keras import models, layers\n",
        "from sklearn.model_selection import train_test_split\n",
        "from sklearn.linear_model import LinearRegression\n",
        "from sklearn.metrics import accuracy_score, mean_squared_error\n",
        "\n",
        "# Step 1: Load and preprocess the data\n",
        "datagen = ImageDataGenerator(rescale=1./255, validation_split=0.2)\n",
        "\n",
        "train_generator = datagen.flow_from_directory(\n",
        "    'food',\n",
        "    target_size=(224, 224),\n",
        "    batch_size=32,\n",
        "    class_mode='categorical',\n",
        "    subset='training'\n",
        ")\n",
        "\n",
        "validation_generator = datagen.flow_from_directory(\n",
        "    'food',\n",
        "    target_size=(224, 224),\n",
        "    batch_size=32,\n",
        "    class_mode='categorical',\n",
        "    subset='validation'\n",
        ")\n",
        "\n",
        "# Step 2: Build a CNN for Food Recognition\n",
        "base_model = MobileNetV2(weights='imagenet', include_top=False, input_shape=(224, 224, 3))\n",
        "\n",
        "model = models.Sequential()\n",
        "model.add(base_model)\n",
        "model.add(layers.GlobalAveragePooling2D())\n",
        "model.add(layers.Dense(256, activation='relu'))\n",
        "model.add(layers.Dropout(0.4))\n",
        "model.add(layers.Dense(num_classes, activation='softmax'))\n",
        "\n",
        "base_model.trainable = False\n",
        "\n",
        "model.compile(optimizer='adam', loss='categorical_crossentropy', metrics=['accuracy'])\n",
        "\n",
        "# Train the model\n",
        "history = model.fit(train_generator, steps_per_epoch=len(train_generator),\n",
        "                    validation_data=validation_generator, validation_steps=len(validation_generator),\n",
        "                    epochs=10)\n",
        "\n",
        "# Step 3: Extract features for Calorie Estimation\n",
        "def extract_features(generator, model):\n",
        "    features = []\n",
        "    labels = []\n",
        "\n",
        "    for _ in range(len(generator)):\n",
        "        batch, batch_labels = generator.next()\n",
        "        batch_features = model.predict(batch)\n",
        "        features.extend(batch_features)\n",
        "        labels.extend(batch_labels)\n",
        "\n",
        "    return np.array(features), np.array(labels)\n",
        "\n",
        "X_train, y_train = extract_features(train_generator, model)\n",
        "X_val, y_val = extract_features(validation_generator, model)\n",
        "\n",
        "# Step 4: Build a Regression Model for Calorie Estimation\n",
        "regression_model = LinearRegression()\n",
        "regression_model.fit(X_train, y_train)\n",
        "\n",
        "# Step 5: Evaluate the models\n",
        "food_recognition_accuracy = model.evaluate(validation_generator)[1]\n",
        "calorie_predictions = regression_model.predict(X_val)\n",
        "calorie_mse = mean_squared_error(y_val, calorie_predictions)\n",
        "\n",
        "print(f\"Food Recognition Accuracy: {food_recognition_accuracy}\")\n",
        "print(f\"Calorie Estimation MSE: {calorie_mse}\")\n"
      ]
    }
  ]
}